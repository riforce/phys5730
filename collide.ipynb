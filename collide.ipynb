{
 "cells": [
  {
   "cell_type": "code",
   "execution_count": 52,
   "metadata": {},
   "outputs": [],
   "source": [
    "%reset -f"
   ]
  },
  {
   "cell_type": "code",
   "execution_count": 53,
   "metadata": {},
   "outputs": [],
   "source": [
    "import numpy as np\n",
    "import matplotlib.pyplot as plt\n",
    "import matplotlib\n",
    "import os\n",
    "from numpy import random\n",
    "\n",
    "matplotlib.rcParams.update({'font.size': 16})"
   ]
  },
  {
   "cell_type": "code",
   "execution_count": 54,
   "metadata": {},
   "outputs": [],
   "source": [
    "### animation parameters ###\n",
    "\n",
    "xmin =  0.0\n",
    "xmax = 10.0\n",
    "ymin =  0.0\n",
    "ymax = 10.0\n",
    "tmin =  0.0\n",
    "tmax = 10.0\n",
    "vmin =  0.0\n",
    "vmax =  2\n",
    "dt   =  0.05\n",
    "#a = vmax/10"
   ]
  },
  {
   "cell_type": "code",
   "execution_count": 56,
   "metadata": {},
   "outputs": [
    {
     "name": "stdout",
     "output_type": "stream",
     "text": [
      "[1]\n",
      "[6]\n",
      "[1.]\n",
      "[1.]\n"
     ]
    }
   ],
   "source": [
    "### define particle(s) ###\n",
    "\n",
    "### (nb - ideally particles should move << 1 radius in dt) ### \n",
    "\n",
    "npart = 1\n",
    "\n",
    "px = random.randint(xmax, size=(npart))\n",
    "py = random.randint(ymax, size=(npart))\n",
    "vx = np.linspace(1, 1.5, npart)\n",
    "vy = np.linspace(1, 1.5, npart)\n",
    "\n",
    "ax = np.zeros(npart)\n",
    "ay = np.zeros(npart)\n",
    "\n",
    "m  = np.ones(npart)\n",
    "r  = np.ones(npart)\n",
    "r = r*0.2              # particle radius in simulation units\n",
    "rp = 65*r              # particle radius in points(?)\n",
    "\n",
    "colors = ['b']#, 'g', 'r', 'olive', 'pink']#, 'tomato', 'navy', 'lime', 'gold', 'plum','slateblue', 'royalblue', 'darkorange', 'maroon', 'peru', 'aqua', 'blueviolet', 'teal', 'darkgreen','magenta']\n",
    "\n",
    "print(px)\n",
    "print(py)\n",
    "print(vx)\n",
    "print(vy)"
   ]
  },
  {
   "cell_type": "code",
   "execution_count": 57,
   "metadata": {},
   "outputs": [],
   "source": [
    "### create the animation frames ### \n",
    "    \n",
    "iframe = 0\n",
    "\n",
    "for t in np.arange(tmin,tmax,dt):\n",
    "\n",
    "    ### output the current frame ###\n",
    "    \n",
    "    output_filename = '%d.png' % iframe\n",
    "    \n",
    "    fig = plt.figure(figsize=(6,6))\n",
    "\n",
    "    plt.scatter(px,py,c=colors,s=rp*rp)\n",
    "    \n",
    "    plt.tick_params(\n",
    "        axis='both',       # changes apply to both axes\n",
    "        which='both',      # both major and minor ticks are affected\n",
    "        bottom=False,      # ticks along the bottom edge are off\n",
    "        top=False,         # ticks along the top edge are off\n",
    "        right=False,       # ticks along the right edge are off\n",
    "        left=False,        # ticks along the left edge are off\n",
    "        labelbottom=False, # labels along the bottom edge are off\n",
    "        labelleft=False    # labels along the left edge are off\n",
    "    ) \n",
    "\n",
    "    plt.grid()\n",
    "    plt.axis([xmin,xmax,ymin,ymax])\n",
    "    plt.title('Simulation Time = '+str(int(t)))\n",
    "    plt.savefig(output_filename,format=\"png\")\n",
    "    plt.close(fig)\n",
    "\n",
    "    ### evolve the particle's position ###\n",
    "\n",
    "    for i in range(0,npart):\n",
    "\n",
    "        ### take a tentative step ###\n",
    "        \n",
    "        pxtemp = px[i] + vx[i]*dt\n",
    "        pytemp = py[i] + vy[i]*dt\n",
    "\n",
    "        ### check if collision with x = xmax wall  ###\n",
    "        ### modify px, py, vx, vy if collision     ###\n",
    "        if((pxtemp+r[i]) >= 10):\n",
    "            vx[i] = vx[i]*(-1)\n",
    "            \n",
    "        ### check if collision with x = xmin wall  ###\n",
    "        ### modify px, py, vx, vy if collision     ###\n",
    "        if((pxtemp-r[i]) <= 0):\n",
    "            vx[i] = vx[i]*(-1)\n",
    "        \n",
    "        \n",
    "        ### check if collision with y = ymax wall  ###\n",
    "        ### modify px, py, vx, vy if collision     ###\n",
    "        if((pytemp+r[i]) >= 10):\n",
    "            vy[i] = vy[i]*(-1)\n",
    "        \n",
    "        \n",
    "        ### check if collision with y = ymin wall  ###\n",
    "        ### modify px, py, vx, vy if collision     ###    \n",
    "        if((pytemp-r[i]) <= 0):\n",
    "            vy[i] = vy[i]*(-1)\n",
    "            \n",
    "         \n",
    "        px[i] = pxtemp\n",
    "        py[i] = pytemp\n",
    "\n",
    "    iframe = iframe+1"
   ]
  },
  {
   "cell_type": "code",
   "execution_count": 58,
   "metadata": {},
   "outputs": [
    {
     "name": "stderr",
     "output_type": "stream",
     "text": [
      "ffmpeg version 2.8.15 Copyright (c) 2000-2018 the FFmpeg developers\n",
      "  built with gcc 4.8.5 (GCC) 20150623 (Red Hat 4.8.5-36)\n",
      "  configuration: --prefix=/usr --bindir=/usr/bin --datadir=/usr/share/ffmpeg --incdir=/usr/include/ffmpeg --libdir=/usr/lib64 --mandir=/usr/share/man --arch=x86_64 --optflags='-O2 -g -pipe -Wall -Wp,-D_FORTIFY_SOURCE=2 -fexceptions -fstack-protector-strong --param=ssp-buffer-size=4 -grecord-gcc-switches -m64 -mtune=generic' --extra-ldflags='-Wl,-z,relro ' --enable-libopencore-amrnb --enable-libopencore-amrwb --enable-libvo-amrwbenc --enable-version3 --enable-bzlib --disable-crystalhd --enable-gnutls --enable-ladspa --enable-libass --enable-libcdio --enable-libdc1394 --enable-libfdk-aac --enable-nonfree --disable-indev=jack --enable-libfreetype --enable-libgsm --enable-libmp3lame --enable-openal --enable-libopenjpeg --enable-libopus --enable-libpulse --enable-libschroedinger --enable-libsoxr --enable-libspeex --enable-libtheora --enable-libvorbis --enable-libv4l2 --enable-libx264 --enable-libx265 --enable-libxvid --enable-x11grab --enable-avfilter --enable-avresample --enable-postproc --enable-pthreads --disable-static --enable-shared --enable-gpl --disable-debug --disable-stripping --shlibdir=/usr/lib64 --enable-runtime-cpudetect\n",
      "  libavutil      54. 31.100 / 54. 31.100\n",
      "  libavcodec     56. 60.100 / 56. 60.100\n",
      "  libavformat    56. 40.101 / 56. 40.101\n",
      "  libavdevice    56.  4.100 / 56.  4.100\n",
      "  libavfilter     5. 40.101 /  5. 40.101\n",
      "  libavresample   2.  1.  0 /  2.  1.  0\n",
      "  libswscale      3.  1.101 /  3.  1.101\n",
      "  libswresample   1.  2.101 /  1.  2.101\n",
      "  libpostproc    53.  3.100 / 53.  3.100\n",
      "Input #0, image2, from '%d.png':\n",
      "  Duration: 00:00:08.00, start: 0.000000, bitrate: N/A\n",
      "    Stream #0:0: Video: png, rgba(pc), 600x600 [SAR 3937:3937 DAR 1:1], 25 fps, 25 tbr, 25 tbn, 25 tbc\n",
      "No pixel format specified, yuv444p for H.264 encoding chosen.\n",
      "Use -pix_fmt yuv420p for compatibility with outdated media players.\n",
      "[libx264 @ 0xfc9240] using SAR=1/1\n",
      "[libx264 @ 0xfc9240] using cpu capabilities: MMX2 SSE2Fast SSSE3 SSE4.2 AVX AVX2 FMA3 LZCNT BMI2\n",
      "[libx264 @ 0xfc9240] profile High 4:4:4 Predictive, level 2.1, 4:4:4 8-bit\n",
      "[libx264 @ 0xfc9240] 264 - core 142 r2495 6a301b6 - H.264/MPEG-4 AVC codec - Copyleft 2003-2014 - http://www.videolan.org/x264.html - options: cabac=1 ref=3 deblock=1:0:0 analyse=0x3:0x113 me=hex subme=7 psy=1 psy_rd=1.00:0.00 mixed_ref=1 me_range=16 chroma_me=1 trellis=1 8x8dct=1 cqm=0 deadzone=21,11 fast_pskip=1 chroma_qp_offset=4 threads=72 lookahead_threads=3 sliced_threads=0 nr=0 decimate=1 interlaced=0 bluray_compat=0 constrained_intra=0 bframes=3 b_pyramid=2 b_adapt=1 b_bias=0 direct=1 weightb=1 open_gop=0 weightp=2 keyint=250 keyint_min=25 scenecut=40 intra_refresh=0 rc_lookahead=40 rc=crf mbtree=1 crf=23.0 qcomp=0.60 qpmin=0 qpmax=69 qpstep=4 ip_ratio=1.40 aq=1:1.00\n",
      "Output #0, mp4, to 'collide.mp4':\n",
      "  Metadata:\n",
      "    encoder         : Lavf56.40.101\n",
      "    Stream #0:0: Video: h264 (libx264) ([33][0][0][0] / 0x0021), yuv444p, 432x432 [SAR 1:1 DAR 1:1], q=-1--1, 25 fps, 12800 tbn, 25 tbc\n",
      "    Metadata:\n",
      "      encoder         : Lavc56.60.100 libx264\n",
      "Stream mapping:\n",
      "  Stream #0:0 -> #0:0 (png (native) -> h264 (libx264))\n",
      "Press [q] to stop, [?] for help\n",
      "frame=  200 fps=0.0 q=-1.0 Lsize=      12kB time=00:00:07.92 bitrate=  12.5kbits/s    \n",
      "video:9kB audio:0kB subtitle:0kB other streams:0kB global headers:0kB muxing overhead: 35.436520%\n",
      "[libx264 @ 0xfc9240] frame I:1     Avg QP:18.09  size:  2425\n",
      "[libx264 @ 0xfc9240] frame P:50    Avg QP:18.85  size:    60\n",
      "[libx264 @ 0xfc9240] frame B:149   Avg QP:12.73  size:    20\n",
      "[libx264 @ 0xfc9240] consecutive B-frames:  0.5%  0.0%  1.5% 98.0%\n",
      "[libx264 @ 0xfc9240] mb I  I16..4: 33.7% 55.6% 10.7%\n",
      "[libx264 @ 0xfc9240] mb P  I16..4:  0.4%  0.0%  0.0%  P16..4:  0.0%  0.0%  0.0%  0.0%  0.0%    skip:99.5%\n",
      "[libx264 @ 0xfc9240] mb B  I16..4:  0.0%  0.0%  0.0%  B16..8:  0.3%  0.0%  0.0%  direct: 0.0%  skip:99.7%  L0:61.7% L1:38.3% BI: 0.0%\n",
      "[libx264 @ 0xfc9240] 8x8 transform intra:45.3% inter:26.3%\n",
      "[libx264 @ 0xfc9240] coded y,u,v intra: 5.0% 0.2% 0.2% inter: 0.0% 0.0% 0.0%\n",
      "[libx264 @ 0xfc9240] i16 v,h,dc,p: 70% 30%  0%  0%\n",
      "[libx264 @ 0xfc9240] i8 v,h,dc,ddl,ddr,vr,hd,vl,hu: 17% 14% 69%  0%  0%  0%  0%  0%  0%\n",
      "[libx264 @ 0xfc9240] i4 v,h,dc,ddl,ddr,vr,hd,vl,hu: 40% 28% 23%  1%  2%  2%  1%  1%  1%\n",
      "[libx264 @ 0xfc9240] Weighted P-Frames: Y:0.0% UV:0.0%\n",
      "[libx264 @ 0xfc9240] ref P L0: 75.9% 12.1% 12.1%\n",
      "[libx264 @ 0xfc9240] ref B L0: 62.5% 37.5%\n",
      "[libx264 @ 0xfc9240] ref B L1: 97.4%  2.6%\n",
      "[libx264 @ 0xfc9240] kb/s:8.44\n"
     ]
    },
    {
     "data": {
      "text/plain": [
       "0"
      ]
     },
     "execution_count": 58,
     "metadata": {},
     "output_type": "execute_result"
    }
   ],
   "source": [
    "### stitch together the frames to make a movie ### \n",
    "        \n",
    "os.system(\"rm collide.mp4\")\n",
    "os.system(\"ffmpeg -i %d.png -vf scale=432x432 collide.mp4\")\n",
    "os.system(\"rm *.png\") \n"
   ]
  },
  {
   "cell_type": "code",
   "execution_count": null,
   "metadata": {},
   "outputs": [],
   "source": []
  }
 ],
 "metadata": {
  "kernelspec": {
   "display_name": "Python 3 (ipykernel)",
   "language": "python",
   "name": "python3"
  },
  "language_info": {
   "codemirror_mode": {
    "name": "ipython",
    "version": 3
   },
   "file_extension": ".py",
   "mimetype": "text/x-python",
   "name": "python",
   "nbconvert_exporter": "python",
   "pygments_lexer": "ipython3",
   "version": "3.9.13"
  }
 },
 "nbformat": 4,
 "nbformat_minor": 4
}
