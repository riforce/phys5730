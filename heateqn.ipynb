{
 "cells": [
  {
   "cell_type": "markdown",
   "metadata": {},
   "source": [
    "Solution of heat equation in 1D: <br>\n",
    "$$\n",
    "\\frac{du(x,t)}{dt} = \\alpha \\frac{d^2u(x,t)}{dx^2}\n",
    "$$"
   ]
  },
  {
   "cell_type": "code",
   "execution_count": 1,
   "metadata": {},
   "outputs": [],
   "source": [
    "%reset -f"
   ]
  },
  {
   "cell_type": "code",
   "execution_count": 2,
   "metadata": {},
   "outputs": [],
   "source": [
    "import numpy as np\n",
    "from scipy import integrate\n",
    "from scipy import sparse\n",
    "import os\n",
    "import matplotlib\n",
    "import matplotlib.pyplot as plt\n",
    "matplotlib.rcParams.update({'font.size': 12})\n",
    "import time"
   ]
  },
  {
   "cell_type": "code",
   "execution_count": 3,
   "metadata": {},
   "outputs": [],
   "source": [
    "### parameters ###\n",
    "\n",
    "dx = 0.005                   # spatial grid spacing\n",
    "x0 = 0.0  \n",
    "xf = 10.0\n",
    "x  = np.arange(x0,xf,dx)     # spatial grid points\n",
    "\n",
    "dt = 0.005                   # temporal grid spacing\n",
    "t0 = 0.0\n",
    "tf = 1.0\n",
    "t_eval = np.arange(t0,tf,dt) # temporal grid points\n",
    "\n",
    "figlength = 8\n",
    "figheight = 8\n",
    "\n",
    "alpha = 1.0                  # thermal diffusivity\n",
    "xw    = 1.0                  # width of initial temperature distribution\n",
    "xc    = 5.0                  # center of initial temperature distribution"
   ]
  },
  {
   "cell_type": "code",
   "execution_count": 4,
   "metadata": {
    "scrolled": true
   },
   "outputs": [
    {
     "data": {
      "image/png": "[encoded data removed]",
      "text/plain": [
       "<Figure size 800x800 with 1 Axes>"
      ]
     },
     "metadata": {},
     "output_type": "display_data"
    }
   ],
   "source": [
    "### initial temperature distribution ###\n",
    "\n",
    "u_init = np.zeros(len(x))\n",
    "for i in np.arange(0,len(x)):\n",
    "    if ((x[i] > (xc - 0.5*xw)) and x[i] < (xc + 0.5*xw)):\n",
    "        u_init[i] = 1.0\n",
    "        \n",
    "fig = plt.figure(figsize=(figlength,figheight))\n",
    "fig.add_subplot(111)\n",
    "plt.plot(x,u_init,color='g')\n",
    "plt.xlabel('$x$')\n",
    "plt.ylabel('$u(0,x)$')\n",
    "plt.axis([x0,xf,-0.2,1.2])\n",
    "plt.title('Initial Data')\n",
    "plt.show()"
   ]
  },
  {
   "cell_type": "code",
   "execution_count": 5,
   "metadata": {},
   "outputs": [],
   "source": [
    "### define finite difference laplace operator ###\n",
    "\n",
    "DELSQ = sparse.diags([1, -2, 1], [-1, 0, 1], shape=(len(x), len(x))) / dx**2"
   ]
  },
  {
   "cell_type": "code",
   "execution_count": 6,
   "metadata": {},
   "outputs": [],
   "source": [
    "### define RHS of heat diffusion equation ###\n",
    "\n",
    "def dudt(t,u):\n",
    "    return  alpha * DELSQ.dot(u)"
   ]
  },
  {
   "cell_type": "code",
   "execution_count": 7,
   "metadata": {},
   "outputs": [
    {
     "name": "stdout",
     "output_type": "stream",
     "text": [
      "Time for solution = 15.26 seconds\n"
     ]
    }
   ],
   "source": [
    "### solve the ivp ###\n",
    "\n",
    "tinit = time.time()\n",
    "sol = integrate.solve_ivp(dudt,\n",
    "                          t_span=[t0, tf],\n",
    "                          y0=u_init,\n",
    "                          t_eval=t_eval,\n",
    "                          method=\"RK23\")\n",
    "tfinal = time.time()\n",
    "print(\"Time for solution = %5.2f seconds\" % (tfinal-tinit) ) "
   ]
  },
  {
   "cell_type": "code",
   "execution_count": 8,
   "metadata": {},
   "outputs": [],
   "source": [
    "### making the frames of the animation ###\n",
    "for iframe in np.arange(0,len(sol.t)):\n",
    "\n",
    "    output_filename = '%d.png' % iframe\n",
    "    titlestring = \"time = %5.3f\" % t_eval[iframe]\n",
    "\n",
    "    u = sol.y[:,iframe]\n",
    "\n",
    "    fig = plt.figure(figsize=(figlength, figheight))\n",
    "    fig.add_subplot(111)\n",
    "    plt.plot(x,u)\n",
    "    plt.xlabel('$x$')\n",
    "    plt.ylabel('$u(t,x)$')\n",
    "    plt.title(titlestring)\n",
    "    plt.axis([x0,xf,-0.2,1.2])\n",
    "    plt.savefig(output_filename,format=\"png\")\n",
    "    plt.close(fig)"
   ]
  },
  {
   "cell_type": "code",
   "execution_count": 9,
   "metadata": {},
   "outputs": [
    {
     "name": "stderr",
     "output_type": "stream",
     "text": [
      "rm: cannot remove 'heateqn.mp4': No such file or directory\n",
      "ffmpeg version 2.8.15 Copyright (c) 2000-2018 the FFmpeg developers\n",
      "  built with gcc 4.8.5 (GCC) 20150623 (Red Hat 4.8.5-36)\n",
      "  configuration: --prefix=/usr --bindir=/usr/bin --datadir=/usr/share/ffmpeg --incdir=/usr/include/ffmpeg --libdir=/usr/lib64 --mandir=/usr/share/man --arch=x86_64 --optflags='-O2 -g -pipe -Wall -Wp,-D_FORTIFY_SOURCE=2 -fexceptions -fstack-protector-strong --param=ssp-buffer-size=4 -grecord-gcc-switches -m64 -mtune=generic' --extra-ldflags='-Wl,-z,relro ' --enable-libopencore-amrnb --enable-libopencore-amrwb --enable-libvo-amrwbenc --enable-version3 --enable-bzlib --disable-crystalhd --enable-gnutls --enable-ladspa --enable-libass --enable-libcdio --enable-libdc1394 --enable-libfdk-aac --enable-nonfree --disable-indev=jack --enable-libfreetype --enable-libgsm --enable-libmp3lame --enable-openal --enable-libopenjpeg --enable-libopus --enable-libpulse --enable-libschroedinger --enable-libsoxr --enable-libspeex --enable-libtheora --enable-libvorbis --enable-libv4l2 --enable-libx264 --enable-libx265 --enable-libxvid --enable-x11grab --enable-avfilter --enable-avresample --enable-postproc --enable-pthreads --disable-static --enable-shared --enable-gpl --disable-debug --disable-stripping --shlibdir=/usr/lib64 --enable-runtime-cpudetect\n",
      "  libavutil      54. 31.100 / 54. 31.100\n",
      "  libavcodec     56. 60.100 / 56. 60.100\n",
      "  libavformat    56. 40.101 / 56. 40.101\n",
      "  libavdevice    56.  4.100 / 56.  4.100\n",
      "  libavfilter     5. 40.101 /  5. 40.101\n",
      "  libavresample   2.  1.  0 /  2.  1.  0\n",
      "  libswscale      3.  1.101 /  3.  1.101\n",
      "  libswresample   1.  2.101 /  1.  2.101\n",
      "  libpostproc    53.  3.100 / 53.  3.100\n",
      "Input #0, image2, from '%d.png':\n",
      "  Duration: 00:00:08.00, start: 0.000000, bitrate: N/A\n",
      "    Stream #0:0: Video: png, rgba(pc), 800x800 [SAR 3937:3937 DAR 1:1], 25 fps, 25 tbr, 25 tbn, 25 tbc\n",
      "No pixel format specified, yuv444p for H.264 encoding chosen.\n",
      "Use -pix_fmt yuv420p for compatibility with outdated media players.\n",
      "[libx264 @ 0x23bab00] using SAR=1/1\n",
      "[libx264 @ 0x23bab00] using cpu capabilities: MMX2 SSE2Fast SSSE3 SSE4.2 AVX AVX2 FMA3 LZCNT BMI2\n",
      "[libx264 @ 0x23bab00] profile High 4:4:4 Predictive, level 3.1, 4:4:4 8-bit\n",
      "[libx264 @ 0x23bab00] 264 - core 142 r2495 6a301b6 - H.264/MPEG-4 AVC codec - Copyleft 2003-2014 - http://www.videolan.org/x264.html - options: cabac=1 ref=3 deblock=1:0:0 analyse=0x3:0x113 me=hex subme=7 psy=1 psy_rd=1.00:0.00 mixed_ref=1 me_range=16 chroma_me=1 trellis=1 8x8dct=1 cqm=0 deadzone=21,11 fast_pskip=1 chroma_qp_offset=4 threads=72 lookahead_threads=6 sliced_threads=0 nr=0 decimate=1 interlaced=0 bluray_compat=0 constrained_intra=0 bframes=3 b_pyramid=2 b_adapt=1 b_bias=0 direct=1 weightb=1 open_gop=0 weightp=2 keyint=250 keyint_min=25 scenecut=40 intra_refresh=0 rc_lookahead=40 rc=crf mbtree=1 crf=23.0 qcomp=0.60 qpmin=0 qpmax=69 qpstep=4 ip_ratio=1.40 aq=1:1.00\n",
      "Output #0, mp4, to 'heateqn.mp4':\n",
      "  Metadata:\n",
      "    encoder         : Lavf56.40.101\n",
      "    Stream #0:0: Video: h264 (libx264) ([33][0][0][0] / 0x0021), yuv444p, 800x800 [SAR 1:1 DAR 1:1], q=-1--1, 25 fps, 12800 tbn, 25 tbc\n",
      "    Metadata:\n",
      "      encoder         : Lavc56.60.100 libx264\n",
      "Stream mapping:\n",
      "  Stream #0:0 -> #0:0 (png (native) -> h264 (libx264))\n",
      "Press [q] to stop, [?] for help\n",
      "frame=  200 fps=153 q=-1.0 Lsize=      68kB time=00:00:07.92 bitrate=  70.4kbits/s    \n",
      "video:65kB audio:0kB subtitle:0kB other streams:0kB global headers:0kB muxing overhead: 4.822522%\n",
      "[libx264 @ 0x23bab00] frame I:1     Avg QP:17.59  size:  4676\n",
      "[libx264 @ 0x23bab00] frame P:53    Avg QP:22.50  size:   592\n",
      "[libx264 @ 0x23bab00] frame B:146   Avg QP:30.56  size:   204\n",
      "[libx264 @ 0x23bab00] consecutive B-frames:  2.5%  0.0%  1.5% 96.0%\n",
      "[libx264 @ 0x23bab00] mb I  I16..4: 26.0% 70.1%  3.9%\n",
      "[libx264 @ 0x23bab00] mb P  I16..4:  0.8%  0.3%  0.1%  P16..4:  1.4%  0.9%  0.3%  0.0%  0.0%    skip:96.2%\n",
      "[libx264 @ 0x23bab00] mb B  I16..4:  0.0%  0.1%  0.0%  B16..8:  2.0%  0.3%  0.0%  direct: 0.0%  skip:97.6%  L0:46.9% L1:43.3% BI: 9.8%\n",
      "[libx264 @ 0x23bab00] 8x8 transform intra:55.5% inter:21.0%\n",
      "[libx264 @ 0x23bab00] coded y,u,v intra: 2.9% 0.4% 0.4% inter: 0.1% 0.0% 0.0%\n",
      "[libx264 @ 0x23bab00] i16 v,h,dc,p: 71% 27%  2%  0%\n",
      "[libx264 @ 0x23bab00] i8 v,h,dc,ddl,ddr,vr,hd,vl,hu: 44%  8% 48%  0%  0%  0%  0%  0%  0%\n",
      "[libx264 @ 0x23bab00] i4 v,h,dc,ddl,ddr,vr,hd,vl,hu: 24% 31% 29%  3%  2%  3%  2%  4%  2%\n",
      "[libx264 @ 0x23bab00] Weighted P-Frames: Y:0.0% UV:0.0%\n",
      "[libx264 @ 0x23bab00] ref P L0: 66.0%  1.5% 20.2% 12.4%\n",
      "[libx264 @ 0x23bab00] ref B L0: 73.9% 22.6%  3.5%\n",
      "[libx264 @ 0x23bab00] ref B L1: 91.5%  8.5%\n",
      "[libx264 @ 0x23bab00] kb/s:65.77\n"
     ]
    },
    {
     "data": {
      "text/plain": [
       "0"
      ]
     },
     "execution_count": 9,
     "metadata": {},
     "output_type": "execute_result"
    }
   ],
   "source": [
    "### stitching frames together to make animation ###\n",
    "os.system(\"rm heateqn.mp4\")\n",
    "os.system(\"ffmpeg -i %d.png -vf scale=800x800 heateqn.mp4\")\n",
    "os.system(\"rm *.png\") "
   ]
  },
  {
   "cell_type": "code",
   "execution_count": null,
   "metadata": {},
   "outputs": [],
   "source": []
  }
 ],
 "metadata": {
  "kernelspec": {
   "display_name": "Python 3 (ipykernel)",
   "language": "python",
   "name": "python3"
  },
  "language_info": {
   "codemirror_mode": {
    "name": "ipython",
    "version": 3
   },
   "file_extension": ".py",
   "mimetype": "text/x-python",
   "name": "python",
   "nbconvert_exporter": "python",
   "pygments_lexer": "ipython3",
   "version": "3.9.13"
  }
 },
 "nbformat": 4,
 "nbformat_minor": 4
}
